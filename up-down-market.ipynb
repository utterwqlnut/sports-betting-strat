{
 "cells": [
  {
   "cell_type": "markdown",
   "id": "abe1d76c",
   "metadata": {},
   "source": [
    "# Up Down Market Analysis\n",
    "- This is a simplifed tool meant for a simple over/under market (will a player perform more or higher of some stat from a previous game)\n",
    "- Finds highest EV configuration of certain stats (each stat is seperated into a different parlay)\n",
    "- Useful when there are promos for risk-free 1->2 pick parlay"
   ]
  },
  {
   "cell_type": "code",
   "execution_count": 327,
   "id": "f5fac3b9",
   "metadata": {},
   "outputs": [],
   "source": [
    "import nflreadpy as nfl"
   ]
  },
  {
   "cell_type": "code",
   "execution_count": 328,
   "id": "cc4ba2f9",
   "metadata": {},
   "outputs": [],
   "source": [
    "data = nfl.load_player_stats(True,\"week\")"
   ]
  },
  {
   "cell_type": "code",
   "execution_count": 329,
   "id": "3b121011",
   "metadata": {},
   "outputs": [
    {
     "data": {
      "text/plain": [
       "['player_id',\n",
       " 'player_name',\n",
       " 'player_display_name',\n",
       " 'position',\n",
       " 'position_group',\n",
       " 'headshot_url',\n",
       " 'season',\n",
       " 'week',\n",
       " 'season_type',\n",
       " 'team',\n",
       " 'opponent_team',\n",
       " 'completions',\n",
       " 'attempts',\n",
       " 'passing_yards',\n",
       " 'passing_tds',\n",
       " 'passing_interceptions',\n",
       " 'sacks_suffered',\n",
       " 'sack_yards_lost',\n",
       " 'sack_fumbles',\n",
       " 'sack_fumbles_lost',\n",
       " 'passing_air_yards',\n",
       " 'passing_yards_after_catch',\n",
       " 'passing_first_downs',\n",
       " 'passing_epa',\n",
       " 'passing_cpoe',\n",
       " 'passing_2pt_conversions',\n",
       " 'pacr',\n",
       " 'carries',\n",
       " 'rushing_yards',\n",
       " 'rushing_tds',\n",
       " 'rushing_fumbles',\n",
       " 'rushing_fumbles_lost',\n",
       " 'rushing_first_downs',\n",
       " 'rushing_epa',\n",
       " 'rushing_2pt_conversions',\n",
       " 'receptions',\n",
       " 'targets',\n",
       " 'receiving_yards',\n",
       " 'receiving_tds',\n",
       " 'receiving_fumbles',\n",
       " 'receiving_fumbles_lost',\n",
       " 'receiving_air_yards',\n",
       " 'receiving_yards_after_catch',\n",
       " 'receiving_first_downs',\n",
       " 'receiving_epa',\n",
       " 'receiving_2pt_conversions',\n",
       " 'racr',\n",
       " 'target_share',\n",
       " 'air_yards_share',\n",
       " 'wopr',\n",
       " 'special_teams_tds',\n",
       " 'def_tackles_solo',\n",
       " 'def_tackles_with_assist',\n",
       " 'def_tackle_assists',\n",
       " 'def_tackles_for_loss',\n",
       " 'def_tackles_for_loss_yards',\n",
       " 'def_fumbles_forced',\n",
       " 'def_sacks',\n",
       " 'def_sack_yards',\n",
       " 'def_qb_hits',\n",
       " 'def_interceptions',\n",
       " 'def_interception_yards',\n",
       " 'def_pass_defended',\n",
       " 'def_tds',\n",
       " 'def_fumbles',\n",
       " 'def_safeties',\n",
       " 'misc_yards',\n",
       " 'fumble_recovery_own',\n",
       " 'fumble_recovery_yards_own',\n",
       " 'fumble_recovery_opp',\n",
       " 'fumble_recovery_yards_opp',\n",
       " 'fumble_recovery_tds',\n",
       " 'penalties',\n",
       " 'penalty_yards',\n",
       " 'punt_returns',\n",
       " 'punt_return_yards',\n",
       " 'kickoff_returns',\n",
       " 'kickoff_return_yards',\n",
       " 'fg_made',\n",
       " 'fg_att',\n",
       " 'fg_missed',\n",
       " 'fg_blocked',\n",
       " 'fg_long',\n",
       " 'fg_pct',\n",
       " 'fg_made_0_19',\n",
       " 'fg_made_20_29',\n",
       " 'fg_made_30_39',\n",
       " 'fg_made_40_49',\n",
       " 'fg_made_50_59',\n",
       " 'fg_made_60_',\n",
       " 'fg_missed_0_19',\n",
       " 'fg_missed_20_29',\n",
       " 'fg_missed_30_39',\n",
       " 'fg_missed_40_49',\n",
       " 'fg_missed_50_59',\n",
       " 'fg_missed_60_',\n",
       " 'fg_made_list',\n",
       " 'fg_missed_list',\n",
       " 'fg_blocked_list',\n",
       " 'fg_made_distance',\n",
       " 'fg_missed_distance',\n",
       " 'fg_blocked_distance',\n",
       " 'pat_made',\n",
       " 'pat_att',\n",
       " 'pat_missed',\n",
       " 'pat_blocked',\n",
       " 'pat_pct',\n",
       " 'gwfg_made',\n",
       " 'gwfg_att',\n",
       " 'gwfg_missed',\n",
       " 'gwfg_blocked',\n",
       " 'gwfg_distance',\n",
       " 'fantasy_points',\n",
       " 'fantasy_points_ppr']"
      ]
     },
     "execution_count": 329,
     "metadata": {},
     "output_type": "execute_result"
    }
   ],
   "source": [
    "data.columns"
   ]
  },
  {
   "cell_type": "code",
   "execution_count": 330,
   "id": "2270b84e",
   "metadata": {},
   "outputs": [],
   "source": [
    "import polars as pl\n",
    "\n",
    "PLAYER_NAME = \"J.Flacco\"\n",
    "VARS = [\"passing_yards\",\"rushing_yards\",\"passing_tds\"]\n",
    "\n",
    "var_data = []\n",
    "for var in VARS:\n",
    "    var_data.append(data.filter(pl.col(\"player_name\")==PLAYER_NAME)[var])\n",
    "\n",
    "data_info = data.filter(pl.col(\"player_name\")==PLAYER_NAME)[\"season\"].cast(pl.String)+data.filter(pl.col(\"player_name\")==PLAYER_NAME)[\"week\"].cast(pl.String)\n",
    "\n",
    "dict_data = {\n",
    "    \"data_info\": data_info.cast(pl.Int32)\n",
    "}\n",
    "\n",
    "for i,var in enumerate(VARS):\n",
    "    dict_data[\"var_\"+str(i)] = var_data[i].diff()>0\n",
    "\n",
    "collected_data = pl.DataFrame(dict_data)[1:]"
   ]
  },
  {
   "cell_type": "code",
   "execution_count": 331,
   "id": "f694ff40",
   "metadata": {},
   "outputs": [
    {
     "data": {
      "text/html": [
       "<div><style>\n",
       ".dataframe > thead > tr,\n",
       ".dataframe > tbody > tr {\n",
       "  text-align: right;\n",
       "  white-space: pre-wrap;\n",
       "}\n",
       "</style>\n",
       "<small>shape: (5, 4)</small><table border=\"1\" class=\"dataframe\"><thead><tr><th>data_info</th><th>var_0</th><th>var_1</th><th>var_2</th></tr><tr><td>i32</td><td>bool</td><td>bool</td><td>bool</td></tr></thead><tbody><tr><td>20083</td><td>false</td><td>false</td><td>false</td></tr><tr><td>20084</td><td>true</td><td>true</td><td>true</td></tr><tr><td>20085</td><td>false</td><td>true</td><td>false</td></tr><tr><td>20086</td><td>true</td><td>true</td><td>false</td></tr><tr><td>20087</td><td>false</td><td>false</td><td>true</td></tr></tbody></table></div>"
      ],
      "text/plain": [
       "shape: (5, 4)\n",
       "┌───────────┬───────┬───────┬───────┐\n",
       "│ data_info ┆ var_0 ┆ var_1 ┆ var_2 │\n",
       "│ ---       ┆ ---   ┆ ---   ┆ ---   │\n",
       "│ i32       ┆ bool  ┆ bool  ┆ bool  │\n",
       "╞═══════════╪═══════╪═══════╪═══════╡\n",
       "│ 20083     ┆ false ┆ false ┆ false │\n",
       "│ 20084     ┆ true  ┆ true  ┆ true  │\n",
       "│ 20085     ┆ false ┆ true  ┆ false │\n",
       "│ 20086     ┆ true  ┆ true  ┆ false │\n",
       "│ 20087     ┆ false ┆ false ┆ true  │\n",
       "└───────────┴───────┴───────┴───────┘"
      ]
     },
     "execution_count": 331,
     "metadata": {},
     "output_type": "execute_result"
    }
   ],
   "source": [
    "collected_data.head()"
   ]
  },
  {
   "cell_type": "code",
   "execution_count": 333,
   "id": "bebd5e20",
   "metadata": {},
   "outputs": [
    {
     "data": {
      "text/plain": [
       "<matplotlib.legend.Legend at 0x308a83cd0>"
      ]
     },
     "execution_count": 333,
     "metadata": {},
     "output_type": "execute_result"
    },
    {
     "data": {
      "image/png": "[encoded data removed]",
      "text/plain": [
       "<Figure size 640x480 with 1 Axes>"
      ]
     },
     "metadata": {},
     "output_type": "display_data"
    }
   ],
   "source": [
    "import matplotlib.pyplot as plt\n",
    "\n",
    "for i,var in enumerate(VARS):\n",
    "    plt.plot(collected_data[\"var_\"+str(i)].cum_sum(),label = var+\"_cum_sum\")\n",
    "\n",
    "plt.legend()\n"
   ]
  },
  {
   "cell_type": "code",
   "execution_count": 334,
   "id": "f6eb4755",
   "metadata": {},
   "outputs": [
    {
     "data": {
      "image/png": "[encoded data removed]",
      "text/plain": [
       "<Figure size 1000x1000 with 3 Axes>"
      ]
     },
     "metadata": {},
     "output_type": "display_data"
    }
   ],
   "source": [
    "fig,ax = plt.subplots(len(VARS))\n",
    "fig.set_size_inches(10,10)\n",
    "for i,var in enumerate(VARS):\n",
    "    ax[i].bar(x=[\"UP\",\"DOWN\"],height = (collected_data[\"var_\"+str(i)].sum(), len(collected_data[\"var_\"+str(i)])-collected_data[\"var_\"+str(i)].sum()))\n",
    "    ax[i].set_title(var)"
   ]
  },
  {
   "cell_type": "code",
   "execution_count": 335,
   "id": "7ebd54a7",
   "metadata": {},
   "outputs": [],
   "source": [
    "import numpy as np\n",
    "\n",
    "# Now get the 2^n matrix\n",
    "\n",
    "def setup_matrix(max_len):\n",
    "    all_lists = []\n",
    "    def recurse_setup_matrix(list_val,max_len):\n",
    "        if(len(list_val)==max_len):\n",
    "            all_lists.append(np.array(list_val.copy()))\n",
    "            return\n",
    "        \n",
    "        list_val.append(True)\n",
    "        recurse_setup_matrix(list_val,max_len)\n",
    "\n",
    "        list_val.pop()\n",
    "        list_val.append(False)\n",
    "\n",
    "        recurse_setup_matrix(list_val,max_len)\n",
    "\n",
    "        list_val.pop()\n",
    "    \n",
    "    recurse_setup_matrix([],max_len)\n",
    "    \n",
    "    return all_lists"
   ]
  },
  {
   "cell_type": "code",
   "execution_count": 336,
   "id": "ba265929",
   "metadata": {},
   "outputs": [
    {
     "data": {
      "text/plain": [
       "[array([ True,  True,  True]),\n",
       " array([ True,  True, False]),\n",
       " array([ True, False,  True]),\n",
       " array([ True, False, False]),\n",
       " array([False,  True,  True]),\n",
       " array([False,  True, False]),\n",
       " array([False, False,  True]),\n",
       " array([False, False, False])]"
      ]
     },
     "execution_count": 336,
     "metadata": {},
     "output_type": "execute_result"
    }
   ],
   "source": [
    "truth_matrix = setup_matrix(len(VARS))\n",
    "truth_matrix"
   ]
  },
  {
   "cell_type": "code",
   "execution_count": 337,
   "id": "94b84ced",
   "metadata": {},
   "outputs": [],
   "source": [
    "MULTIPLIER = 3\n",
    "PAY_PER_PARLAY_CONFIG= np.array([5,5,5])\n",
    "ev = []\n",
    "\n",
    "for config_a in truth_matrix:\n",
    "    total_pay = 0\n",
    "    for config_b in truth_matrix:\n",
    "        result_prob = 1\n",
    "\n",
    "        for i,bool_val in enumerate(config_b):\n",
    "            # If its false than bool_val (whether or not it was succesful) is flipped because we are taking the over\n",
    "            result_prob*=(collected_data[\"var_\"+str(i)] ^ (not ((not config_a[i]) ^ bool_val))).sum()/len(collected_data[\"var_\"+str(i)])\n",
    "        \n",
    "        total_pay += (sum(MULTIPLIER*PAY_PER_PARLAY_CONFIG*config_b) - sum(PAY_PER_PARLAY_CONFIG))*result_prob\n",
    "    \n",
    "    ev.append(total_pay)"
   ]
  },
  {
   "cell_type": "code",
   "execution_count": 338,
   "id": "68be8243",
   "metadata": {},
   "outputs": [
    {
     "name": "stdout",
     "output_type": "stream",
     "text": [
      "[np.float64(4.386792452830189), np.float64(8.632075471698114), np.float64(4.952830188679245), np.float64(9.19811320754717), np.float64(5.801886792452829), np.float64(10.047169811320755), np.float64(6.367924528301885), np.float64(10.613207547169813)]\n"
     ]
    }
   ],
   "source": [
    "print(ev)"
   ]
  },
  {
   "cell_type": "code",
   "execution_count": 339,
   "id": "0d6c439d",
   "metadata": {},
   "outputs": [
    {
     "name": "stdout",
     "output_type": "stream",
     "text": [
      "EV MAX: 10.613207547169813\n"
     ]
    }
   ],
   "source": [
    "print(\"EV MAX: \"+str(max(ev)))"
   ]
  },
  {
   "cell_type": "code",
   "execution_count": 340,
   "id": "661e2dd0",
   "metadata": {},
   "outputs": [
    {
     "name": "stdout",
     "output_type": "stream",
     "text": [
      "OVER UNDER CONFIG: [False False False]\n"
     ]
    }
   ],
   "source": [
    "print(\"OVER UNDER CONFIG: \"+str(truth_matrix[ev.index(max(ev))]))"
   ]
  }
 ],
 "metadata": {
  "kernelspec": {
   "display_name": "sport_bet",
   "language": "python",
   "name": "python3"
  },
  "language_info": {
   "codemirror_mode": {
    "name": "ipython",
    "version": 3
   },
   "file_extension": ".py",
   "mimetype": "text/x-python",
   "name": "python",
   "nbconvert_exporter": "python",
   "pygments_lexer": "ipython3",
   "version": "3.10.15"
  }
 },
 "nbformat": 4,
 "nbformat_minor": 5
}
