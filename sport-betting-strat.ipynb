{
 "cells": [
  {
   "cell_type": "markdown",
   "id": "4c99369c",
   "metadata": {},
   "source": [
    "# Paired Parlay Strategy V1 (Not that good)\n",
    "- This strategy is meant to try and find +EV parlay pairs using dependent stats on a single player\n",
    "- TODO: Implement a etter lines approximation, currently just a running mean weighted towards the latest result (historical approximation)"
   ]
  },
  {
   "cell_type": "code",
   "execution_count": 1,
   "id": "2ae17e30",
   "metadata": {},
   "outputs": [],
   "source": [
    "import nflreadpy as nfl"
   ]
  },
  {
   "cell_type": "code",
   "execution_count": 7,
   "id": "d052d952",
   "metadata": {},
   "outputs": [
    {
     "name": "stdout",
     "output_type": "stream",
     "text": [
      "Downloading https://github.com/nflverse/nflverse-data/releases/download/stats_player/stats_player_week_1999.parquet\n"
     ]
    },
    {
     "name": "stderr",
     "output_type": "stream",
     "text": [
      "Downloading: 100%|██████████| 592k/592k [00:00<00:00, 64.6MB/s]\n"
     ]
    },
    {
     "name": "stdout",
     "output_type": "stream",
     "text": [
      "Downloading https://github.com/nflverse/nflverse-data/releases/download/stats_player/stats_player_week_2000.parquet\n"
     ]
    },
    {
     "name": "stderr",
     "output_type": "stream",
     "text": [
      "Downloading: 100%|██████████| 579k/579k [00:00<00:00, 45.6MB/s]\n"
     ]
    },
    {
     "name": "stdout",
     "output_type": "stream",
     "text": [
      "Downloading https://github.com/nflverse/nflverse-data/releases/download/stats_player/stats_player_week_2001.parquet\n"
     ]
    },
    {
     "name": "stderr",
     "output_type": "stream",
     "text": [
      "Downloading: 100%|██████████| 585k/585k [00:00<00:00, 66.5MB/s]\n"
     ]
    },
    {
     "name": "stdout",
     "output_type": "stream",
     "text": [
      "Downloading https://github.com/nflverse/nflverse-data/releases/download/stats_player/stats_player_week_2002.parquet\n"
     ]
    },
    {
     "name": "stderr",
     "output_type": "stream",
     "text": [
      "Downloading: 100%|██████████| 607k/607k [00:00<00:00, 104MB/s]\n"
     ]
    },
    {
     "name": "stdout",
     "output_type": "stream",
     "text": [
      "Downloading https://github.com/nflverse/nflverse-data/releases/download/stats_player/stats_player_week_2003.parquet\n"
     ]
    },
    {
     "name": "stderr",
     "output_type": "stream",
     "text": [
      "Downloading: 100%|██████████| 529k/529k [00:00<00:00, 97.9MB/s]\n"
     ]
    },
    {
     "name": "stdout",
     "output_type": "stream",
     "text": [
      "Downloading https://github.com/nflverse/nflverse-data/releases/download/stats_player/stats_player_week_2004.parquet\n"
     ]
    },
    {
     "name": "stderr",
     "output_type": "stream",
     "text": [
      "Downloading: 100%|██████████| 526k/526k [00:00<00:00, 89.9MB/s]\n"
     ]
    },
    {
     "name": "stdout",
     "output_type": "stream",
     "text": [
      "Downloading https://github.com/nflverse/nflverse-data/releases/download/stats_player/stats_player_week_2005.parquet\n"
     ]
    },
    {
     "name": "stderr",
     "output_type": "stream",
     "text": [
      "Downloading: 100%|██████████| 524k/524k [00:00<00:00, 96.0MB/s]\n"
     ]
    },
    {
     "name": "stdout",
     "output_type": "stream",
     "text": [
      "Downloading https://github.com/nflverse/nflverse-data/releases/download/stats_player/stats_player_week_2006.parquet\n"
     ]
    },
    {
     "name": "stderr",
     "output_type": "stream",
     "text": [
      "Downloading: 100%|██████████| 551k/551k [00:00<00:00, 86.0MB/s]\n"
     ]
    },
    {
     "name": "stdout",
     "output_type": "stream",
     "text": [
      "Downloading https://github.com/nflverse/nflverse-data/releases/download/stats_player/stats_player_week_2007.parquet\n"
     ]
    },
    {
     "name": "stderr",
     "output_type": "stream",
     "text": [
      "Downloading: 100%|██████████| 558k/558k [00:00<00:00, 59.4MB/s]\n"
     ]
    },
    {
     "name": "stdout",
     "output_type": "stream",
     "text": [
      "Downloading https://github.com/nflverse/nflverse-data/releases/download/stats_player/stats_player_week_2008.parquet\n"
     ]
    },
    {
     "name": "stderr",
     "output_type": "stream",
     "text": [
      "Downloading: 100%|██████████| 554k/554k [00:00<00:00, 53.0MB/s]\n"
     ]
    },
    {
     "name": "stdout",
     "output_type": "stream",
     "text": [
      "Downloading https://github.com/nflverse/nflverse-data/releases/download/stats_player/stats_player_week_2009.parquet\n"
     ]
    },
    {
     "name": "stderr",
     "output_type": "stream",
     "text": [
      "Downloading: 100%|██████████| 704k/704k [00:00<00:00, 36.3MB/s]\n"
     ]
    },
    {
     "name": "stdout",
     "output_type": "stream",
     "text": [
      "Downloading https://github.com/nflverse/nflverse-data/releases/download/stats_player/stats_player_week_2010.parquet\n"
     ]
    },
    {
     "name": "stderr",
     "output_type": "stream",
     "text": [
      "Downloading: 100%|██████████| 701k/701k [00:00<00:00, 38.3MB/s]\n"
     ]
    },
    {
     "name": "stdout",
     "output_type": "stream",
     "text": [
      "Downloading https://github.com/nflverse/nflverse-data/releases/download/stats_player/stats_player_week_2011.parquet\n"
     ]
    },
    {
     "name": "stderr",
     "output_type": "stream",
     "text": [
      "Downloading: 100%|██████████| 701k/701k [00:00<00:00, 81.4MB/s]\n"
     ]
    },
    {
     "name": "stdout",
     "output_type": "stream",
     "text": [
      "Downloading https://github.com/nflverse/nflverse-data/releases/download/stats_player/stats_player_week_2012.parquet\n"
     ]
    },
    {
     "name": "stderr",
     "output_type": "stream",
     "text": [
      "Downloading: 100%|██████████| 714k/714k [00:00<00:00, 61.7MB/s]\n"
     ]
    },
    {
     "name": "stdout",
     "output_type": "stream",
     "text": [
      "Downloading https://github.com/nflverse/nflverse-data/releases/download/stats_player/stats_player_week_2013.parquet\n"
     ]
    },
    {
     "name": "stderr",
     "output_type": "stream",
     "text": [
      "Downloading: 100%|██████████| 704k/704k [00:00<00:00, 9.31MB/s]\n"
     ]
    },
    {
     "name": "stdout",
     "output_type": "stream",
     "text": [
      "Downloading https://github.com/nflverse/nflverse-data/releases/download/stats_player/stats_player_week_2014.parquet\n"
     ]
    },
    {
     "name": "stderr",
     "output_type": "stream",
     "text": [
      "Downloading: 100%|██████████| 716k/716k [00:00<00:00, 90.6MB/s]\n"
     ]
    },
    {
     "name": "stdout",
     "output_type": "stream",
     "text": [
      "Downloading https://github.com/nflverse/nflverse-data/releases/download/stats_player/stats_player_week_2015.parquet\n"
     ]
    },
    {
     "name": "stderr",
     "output_type": "stream",
     "text": [
      "Downloading: 100%|██████████| 718k/718k [00:00<00:00, 83.3MB/s]\n"
     ]
    },
    {
     "name": "stdout",
     "output_type": "stream",
     "text": [
      "Downloading https://github.com/nflverse/nflverse-data/releases/download/stats_player/stats_player_week_2016.parquet\n"
     ]
    },
    {
     "name": "stderr",
     "output_type": "stream",
     "text": [
      "Downloading: 100%|██████████| 717k/717k [00:00<00:00, 87.8MB/s]\n"
     ]
    },
    {
     "name": "stdout",
     "output_type": "stream",
     "text": [
      "Downloading https://github.com/nflverse/nflverse-data/releases/download/stats_player/stats_player_week_2017.parquet\n"
     ]
    },
    {
     "name": "stderr",
     "output_type": "stream",
     "text": [
      "Downloading: 100%|██████████| 714k/714k [00:00<00:00, 61.7MB/s]\n"
     ]
    },
    {
     "name": "stdout",
     "output_type": "stream",
     "text": [
      "Downloading https://github.com/nflverse/nflverse-data/releases/download/stats_player/stats_player_week_2018.parquet\n"
     ]
    },
    {
     "name": "stderr",
     "output_type": "stream",
     "text": [
      "Downloading: 100%|██████████| 716k/716k [00:00<00:00, 1.65MB/s] \n"
     ]
    },
    {
     "name": "stdout",
     "output_type": "stream",
     "text": [
      "Downloading https://github.com/nflverse/nflverse-data/releases/download/stats_player/stats_player_week_2019.parquet\n"
     ]
    },
    {
     "name": "stderr",
     "output_type": "stream",
     "text": [
      "Downloading: 100%|██████████| 715k/715k [00:00<00:00, 85.7MB/s]\n"
     ]
    },
    {
     "name": "stdout",
     "output_type": "stream",
     "text": [
      "Downloading https://github.com/nflverse/nflverse-data/releases/download/stats_player/stats_player_week_2020.parquet\n"
     ]
    },
    {
     "name": "stderr",
     "output_type": "stream",
     "text": [
      "Downloading: 100%|██████████| 731k/731k [00:00<00:00, 28.2MB/s]\n"
     ]
    },
    {
     "name": "stdout",
     "output_type": "stream",
     "text": [
      "Downloading https://github.com/nflverse/nflverse-data/releases/download/stats_player/stats_player_week_2021.parquet\n"
     ]
    },
    {
     "name": "stderr",
     "output_type": "stream",
     "text": [
      "Downloading: 100%|██████████| 767k/767k [00:00<00:00, 33.7MB/s]\n"
     ]
    },
    {
     "name": "stdout",
     "output_type": "stream",
     "text": [
      "Downloading https://github.com/nflverse/nflverse-data/releases/download/stats_player/stats_player_week_2022.parquet\n"
     ]
    },
    {
     "name": "stderr",
     "output_type": "stream",
     "text": [
      "Downloading: 100%|██████████| 759k/759k [00:00<00:00, 55.8MB/s]\n"
     ]
    },
    {
     "name": "stdout",
     "output_type": "stream",
     "text": [
      "Downloading https://github.com/nflverse/nflverse-data/releases/download/stats_player/stats_player_week_2023.parquet\n"
     ]
    },
    {
     "name": "stderr",
     "output_type": "stream",
     "text": [
      "Downloading: 100%|██████████| 758k/758k [00:00<00:00, 84.8MB/s]\n"
     ]
    },
    {
     "name": "stdout",
     "output_type": "stream",
     "text": [
      "Downloading https://github.com/nflverse/nflverse-data/releases/download/stats_player/stats_player_week_2024.parquet\n"
     ]
    },
    {
     "name": "stderr",
     "output_type": "stream",
     "text": [
      "Downloading: 100%|██████████| 762k/762k [00:00<00:00, 39.5MB/s]\n"
     ]
    },
    {
     "name": "stdout",
     "output_type": "stream",
     "text": [
      "Downloading https://github.com/nflverse/nflverse-data/releases/download/stats_player/stats_player_week_2025.parquet\n"
     ]
    },
    {
     "name": "stderr",
     "output_type": "stream",
     "text": [
      "Downloading: 100%|██████████| 172k/172k [00:00<00:00, 24.2MB/s]\n"
     ]
    }
   ],
   "source": [
    "data = nfl.load_player_stats(True,\"week\")"
   ]
  },
  {
   "cell_type": "code",
   "execution_count": 218,
   "id": "b74f074b",
   "metadata": {},
   "outputs": [
    {
     "data": {
      "text/plain": [
       "['player_id',\n",
       " 'player_name',\n",
       " 'player_display_name',\n",
       " 'position',\n",
       " 'position_group',\n",
       " 'headshot_url',\n",
       " 'season',\n",
       " 'week',\n",
       " 'season_type',\n",
       " 'team',\n",
       " 'opponent_team',\n",
       " 'completions',\n",
       " 'attempts',\n",
       " 'passing_yards',\n",
       " 'passing_tds',\n",
       " 'passing_interceptions',\n",
       " 'sacks_suffered',\n",
       " 'sack_yards_lost',\n",
       " 'sack_fumbles',\n",
       " 'sack_fumbles_lost',\n",
       " 'passing_air_yards',\n",
       " 'passing_yards_after_catch',\n",
       " 'passing_first_downs',\n",
       " 'passing_epa',\n",
       " 'passing_cpoe',\n",
       " 'passing_2pt_conversions',\n",
       " 'pacr',\n",
       " 'carries',\n",
       " 'rushing_yards',\n",
       " 'rushing_tds',\n",
       " 'rushing_fumbles',\n",
       " 'rushing_fumbles_lost',\n",
       " 'rushing_first_downs',\n",
       " 'rushing_epa',\n",
       " 'rushing_2pt_conversions',\n",
       " 'receptions',\n",
       " 'targets',\n",
       " 'receiving_yards',\n",
       " 'receiving_tds',\n",
       " 'receiving_fumbles',\n",
       " 'receiving_fumbles_lost',\n",
       " 'receiving_air_yards',\n",
       " 'receiving_yards_after_catch',\n",
       " 'receiving_first_downs',\n",
       " 'receiving_epa',\n",
       " 'receiving_2pt_conversions',\n",
       " 'racr',\n",
       " 'target_share',\n",
       " 'air_yards_share',\n",
       " 'wopr',\n",
       " 'special_teams_tds',\n",
       " 'def_tackles_solo',\n",
       " 'def_tackles_with_assist',\n",
       " 'def_tackle_assists',\n",
       " 'def_tackles_for_loss',\n",
       " 'def_tackles_for_loss_yards',\n",
       " 'def_fumbles_forced',\n",
       " 'def_sacks',\n",
       " 'def_sack_yards',\n",
       " 'def_qb_hits',\n",
       " 'def_interceptions',\n",
       " 'def_interception_yards',\n",
       " 'def_pass_defended',\n",
       " 'def_tds',\n",
       " 'def_fumbles',\n",
       " 'def_safeties',\n",
       " 'misc_yards',\n",
       " 'fumble_recovery_own',\n",
       " 'fumble_recovery_yards_own',\n",
       " 'fumble_recovery_opp',\n",
       " 'fumble_recovery_yards_opp',\n",
       " 'fumble_recovery_tds',\n",
       " 'penalties',\n",
       " 'penalty_yards',\n",
       " 'punt_returns',\n",
       " 'punt_return_yards',\n",
       " 'kickoff_returns',\n",
       " 'kickoff_return_yards',\n",
       " 'fg_made',\n",
       " 'fg_att',\n",
       " 'fg_missed',\n",
       " 'fg_blocked',\n",
       " 'fg_long',\n",
       " 'fg_pct',\n",
       " 'fg_made_0_19',\n",
       " 'fg_made_20_29',\n",
       " 'fg_made_30_39',\n",
       " 'fg_made_40_49',\n",
       " 'fg_made_50_59',\n",
       " 'fg_made_60_',\n",
       " 'fg_missed_0_19',\n",
       " 'fg_missed_20_29',\n",
       " 'fg_missed_30_39',\n",
       " 'fg_missed_40_49',\n",
       " 'fg_missed_50_59',\n",
       " 'fg_missed_60_',\n",
       " 'fg_made_list',\n",
       " 'fg_missed_list',\n",
       " 'fg_blocked_list',\n",
       " 'fg_made_distance',\n",
       " 'fg_missed_distance',\n",
       " 'fg_blocked_distance',\n",
       " 'pat_made',\n",
       " 'pat_att',\n",
       " 'pat_missed',\n",
       " 'pat_blocked',\n",
       " 'pat_pct',\n",
       " 'gwfg_made',\n",
       " 'gwfg_att',\n",
       " 'gwfg_missed',\n",
       " 'gwfg_blocked',\n",
       " 'gwfg_distance',\n",
       " 'fantasy_points',\n",
       " 'fantasy_points_ppr']"
      ]
     },
     "execution_count": 218,
     "metadata": {},
     "output_type": "execute_result"
    }
   ],
   "source": [
    "data.columns"
   ]
  },
  {
   "cell_type": "code",
   "execution_count": 258,
   "id": "93257a8b",
   "metadata": {},
   "outputs": [],
   "source": [
    "import polars as pl\n",
    "\n",
    "PLAYER_NAME = \"J.Jefferson\"\n",
    "VAR_1 = \"receptions\"\n",
    "VAR_2 = \"receiving_yards\"\n",
    "\n",
    "var_1_data = data.filter(pl.col(\"player_name\")==PLAYER_NAME)[VAR_1]\n",
    "var_2_data = data.filter(pl.col(\"player_name\")==PLAYER_NAME)[VAR_2]\n",
    "data_info = data.filter(pl.col(\"player_name\")==PLAYER_NAME)[\"season\"].cast(pl.String)+data.filter(pl.col(\"player_name\")==PLAYER_NAME)[\"week\"].cast(pl.String)\n",
    "\n",
    "dict_data = {\n",
    "    \"var_1\": (var_1_data-var_1_data.mean())/var_1_data.std(),\n",
    "    \"var_2\": (var_2_data-var_2_data.mean())/var_2_data.std(),\n",
    "    \"data_info\": data_info.cast(pl.Int32),\n",
    "}\n",
    "\n",
    "collected_data = pl.DataFrame(dict_data)"
   ]
  },
  {
   "cell_type": "code",
   "execution_count": 259,
   "id": "1fa2d521",
   "metadata": {},
   "outputs": [
    {
     "data": {
      "text/plain": [
       "Text(0.5, 1.0, 'Z-score normalized Comparison of receptions and receiving_yards')"
      ]
     },
     "execution_count": 259,
     "metadata": {},
     "output_type": "execute_result"
    },
    {
     "data": {
      "image/png": "[encoded data removed]",
      "text/plain": [
       "<Figure size 640x480 with 1 Axes>"
      ]
     },
     "metadata": {},
     "output_type": "display_data"
    }
   ],
   "source": [
    "import matplotlib.pyplot as plt\n",
    "\n",
    "plt.plot(collected_data['var_1'],label = VAR_1)\n",
    "plt.plot(collected_data['var_2'],label = VAR_2)\n",
    "plt.legend()\n",
    "plt.title(f\"Z-score normalized Comparison of {VAR_1} and {VAR_2}\")"
   ]
  },
  {
   "cell_type": "code",
   "execution_count": 260,
   "id": "c0c78d29",
   "metadata": {},
   "outputs": [
    {
     "data": {
      "text/html": [
       "<div><style>\n",
       ".dataframe > thead > tr,\n",
       ".dataframe > tbody > tr {\n",
       "  text-align: right;\n",
       "  white-space: pre-wrap;\n",
       "}\n",
       "</style>\n",
       "<small>shape: (5, 7)</small><table border=\"1\" class=\"dataframe\"><thead><tr><th>var_1</th><th>var_2</th><th>data_info</th><th>var_1_rolling</th><th>var_2_rolling</th><th>var_1_over</th><th>var_2_over</th></tr><tr><td>f64</td><td>f64</td><td>i32</td><td>f64</td><td>f64</td><td>bool</td><td>bool</td></tr></thead><tbody><tr><td>-1.032413</td><td>-0.9529</td><td>200213</td><td>-1.032413</td><td>-0.9529</td><td>true</td><td>false</td></tr><tr><td>-1.032413</td><td>-0.9529</td><td>200214</td><td>-1.032413</td><td>-0.9529</td><td>true</td><td>false</td></tr><tr><td>-1.032413</td><td>-0.9529</td><td>200215</td><td>-1.032413</td><td>-0.9529</td><td>true</td><td>false</td></tr><tr><td>-1.032413</td><td>-0.9529</td><td>200216</td><td>-1.032413</td><td>-0.9529</td><td>true</td><td>false</td></tr><tr><td>-1.032413</td><td>-0.9529</td><td>20047</td><td>-1.032413</td><td>-0.9529</td><td>true</td><td>false</td></tr></tbody></table></div>"
      ],
      "text/plain": [
       "shape: (5, 7)\n",
       "┌───────────┬─────────┬───────────┬───────────────┬───────────────┬────────────┬────────────┐\n",
       "│ var_1     ┆ var_2   ┆ data_info ┆ var_1_rolling ┆ var_2_rolling ┆ var_1_over ┆ var_2_over │\n",
       "│ ---       ┆ ---     ┆ ---       ┆ ---           ┆ ---           ┆ ---        ┆ ---        │\n",
       "│ f64       ┆ f64     ┆ i32       ┆ f64           ┆ f64           ┆ bool       ┆ bool       │\n",
       "╞═══════════╪═════════╪═══════════╪═══════════════╪═══════════════╪════════════╪════════════╡\n",
       "│ -1.032413 ┆ -0.9529 ┆ 200213    ┆ -1.032413     ┆ -0.9529       ┆ true       ┆ false      │\n",
       "│ -1.032413 ┆ -0.9529 ┆ 200214    ┆ -1.032413     ┆ -0.9529       ┆ true       ┆ false      │\n",
       "│ -1.032413 ┆ -0.9529 ┆ 200215    ┆ -1.032413     ┆ -0.9529       ┆ true       ┆ false      │\n",
       "│ -1.032413 ┆ -0.9529 ┆ 200216    ┆ -1.032413     ┆ -0.9529       ┆ true       ┆ false      │\n",
       "│ -1.032413 ┆ -0.9529 ┆ 20047     ┆ -1.032413     ┆ -0.9529       ┆ true       ┆ false      │\n",
       "└───────────┴─────────┴───────────┴───────────────┴───────────────┴────────────┴────────────┘"
      ]
     },
     "execution_count": 260,
     "metadata": {},
     "output_type": "execute_result"
    }
   ],
   "source": [
    "# Next lets do the strategy perform a running mean and then o/u for both bool array then get table\n",
    "# Later improve this\n",
    "WINDOW_SIZE = 5\n",
    "WEIGHT = [0.05,0.05,0.05,0.05,0.8]\n",
    "\n",
    "collected_data = collected_data.with_columns(\n",
    "    pl.col('var_1').rolling_mean(WINDOW_SIZE, WEIGHT).alias(\"var_1_rolling\")\n",
    ")\n",
    "collected_data = collected_data.with_columns(\n",
    "    pl.col('var_2').rolling_mean(WINDOW_SIZE,WEIGHT).alias(\"var_2_rolling\")\n",
    ")\n",
    "\n",
    "collected_data = collected_data.slice(WINDOW_SIZE-1)\n",
    "\n",
    "collected_data = collected_data.with_columns(\n",
    "    (pl.col('var_1')>pl.col('var_1_rolling')).alias('var_1_over')\n",
    ")\n",
    "\n",
    "collected_data = collected_data.with_columns(\n",
    "    (pl.col('var_2')>pl.col('var_2_rolling')).alias('var_2_over')\n",
    ")\n",
    "\n",
    "collected_data.head()"
   ]
  },
  {
   "cell_type": "code",
   "execution_count": 261,
   "id": "abf2e69a",
   "metadata": {},
   "outputs": [],
   "source": [
    "p = [[0,0],[0,0]]\n",
    "p[1][0] = ((collected_data['var_1_over'] & ~collected_data['var_2_over']).sum())/len(collected_data) # over under\n",
    "p[1][1] = ((collected_data['var_1_over'] & collected_data['var_2_over']).sum())/len(collected_data) # over over\n",
    "p[0][1] = ((~collected_data['var_1_over'] & collected_data['var_2_over']).sum())/len(collected_data) # under over\n",
    "p[0][0] = ((~collected_data['var_1_over'] & ~collected_data['var_2_over']).sum())/len(collected_data) # under under"
   ]
  },
  {
   "cell_type": "code",
   "execution_count": 277,
   "id": "cde179ef",
   "metadata": {},
   "outputs": [
    {
     "name": "stdout",
     "output_type": "stream",
     "text": [
      "[[0.3178294573643411, 0.03875968992248062], [0.3178294573643411, 0.32558139534883723]]\n"
     ]
    }
   ],
   "source": [
    "print(p)"
   ]
  },
  {
   "cell_type": "code",
   "execution_count": 281,
   "id": "bf4c597d",
   "metadata": {},
   "outputs": [
    {
     "name": "stdout",
     "output_type": "stream",
     "text": [
      "EV: 4.055232558139533\n"
     ]
    }
   ],
   "source": [
    "# EV Calc\n",
    "\n",
    "VAR_1_OVER = True\n",
    "VAR_2_OVER = False\n",
    "PARLAY_BET_1 = 15\n",
    "PARLAY_BET_2 = 5\n",
    "MULTIPLIER = 2.5\n",
    "OTHER_BETS_PROB = 0.75\n",
    "\n",
    "# If both bets win\n",
    "ev = ((MULTIPLIER-1)*PARLAY_BET_1+(MULTIPLIER-1)*PARLAY_BET_2)*(p[VAR_1_OVER][VAR_2_OVER]*OTHER_BETS_PROB)\n",
    "\n",
    "# if just var 1 parlay wins\n",
    "ev += ((MULTIPLIER-1)*PARLAY_BET_1-PARLAY_BET_2)*(p[VAR_1_OVER][not VAR_2_OVER]*OTHER_BETS_PROB)\n",
    "\n",
    "# if just var 2 parlay wins\n",
    "ev += ((MULTIPLIER-1)*PARLAY_BET_2-PARLAY_BET_1)*(p[not VAR_1_OVER][VAR_2_OVER]*OTHER_BETS_PROB)\n",
    "\n",
    "# if both lose\n",
    "ev += (0-PARLAY_BET_2-PARLAY_BET_1)*(p[not VAR_1_OVER][not VAR_2_OVER]+1-OTHER_BETS_PROB-(p[not VAR_1_OVER][not VAR_2_OVER]*(1-OTHER_BETS_PROB)))\n",
    "\n",
    "print(f\"EV: {ev}\")"
   ]
  },
  {
   "cell_type": "code",
   "execution_count": 282,
   "id": "c1c7fed4",
   "metadata": {},
   "outputs": [],
   "source": [
    "pnl = [10]\n",
    "assets = [20,30]"
   ]
  }
 ],
 "metadata": {
  "kernelspec": {
   "display_name": "sport_bet",
   "language": "python",
   "name": "python3"
  },
  "language_info": {
   "codemirror_mode": {
    "name": "ipython",
    "version": 3
   },
   "file_extension": ".py",
   "mimetype": "text/x-python",
   "name": "python",
   "nbconvert_exporter": "python",
   "pygments_lexer": "ipython3",
   "version": "3.10.15"
  }
 },
 "nbformat": 4,
 "nbformat_minor": 5
}
